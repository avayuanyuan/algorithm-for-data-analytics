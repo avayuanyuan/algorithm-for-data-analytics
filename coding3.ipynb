{
 "cells": [
  {
   "cell_type": "code",
   "execution_count": 1,
   "metadata": {
    "collapsed": true
   },
   "outputs": [],
   "source": [
    "import sys\n",
    "import argparse\n",
    "import random\n",
    "import numpy as np \n",
    "import time\n",
    "import math\n",
    "import matplotlib.pyplot as plt\n",
    "from scipy.stats import uniform\n",
    "\n",
    "# Some constants -- \"heads\" is 1 and \"tails\" is 0\n",
    "HEADS = 1\n",
    "TAILS = 0\n",
    "\n",
    "# reading the number of trials on command line\n",
    "no_of_trials = 1000000\n"
   ]
  },
  {
   "cell_type": "code",
   "execution_count": 21,
   "metadata": {
    "collapsed": true
   },
   "outputs": [],
   "source": [
    "# assign a random value for the probability of seeing a \"1\" (p1), \"2\" (p2) or \"3\" (p3) for \n",
    "# the 3-sided unfair dice such that (p1, p2, p3) is uniformly distributed over the surface\n",
    "# p1+p2+p3 = 1, where p1, p2, p3 are non-negative real numbers\n",
    "prob_of_one = np.random.uniform()\n",
    "prob_of_two = np.random.uniform()\n",
    "prob_of_three= 1 - prob_of_one-prob_of_two \n",
    "    "
   ]
  },
  {
   "cell_type": "code",
   "execution_count": 22,
   "metadata": {
    "collapsed": true
   },
   "outputs": [],
   "source": [
    "# This function simulates a single toss of the unfair 3-sided dice\n",
    "def toss_of_three_sided_unfair_dice():\n",
    "    x = np.random.uniform()\n",
    "    if (x < prob_of_one) :\n",
    "        return 1\n",
    "    else :\n",
    "        if (x < prob_of_two) :\n",
    "            return 2\n",
    "        else :\n",
    "            return 3"
   ]
  },
  {
   "cell_type": "code",
   "execution_count": 23,
   "metadata": {
    "collapsed": true
   },
   "outputs": [],
   "source": [
    "def simulate_fair_coin_from_unfair_three_sided_dice() :\n",
    "    # FILL Code here\n",
    "    # figure out how to convert the outcome of the unfair 3-sided dice\n",
    "    # into an outcome from a Fair Coin\n",
    "    toss1 = toss_of_three_sided_unfair_dice()\n",
    "    toss2 = toss_of_three_sided_unfair_dice()\n",
    "    \n",
    "    # repeat the unfair coin toss if toss1 and toss2 are the same\n",
    "    while (toss1 == toss2) :\n",
    "        toss1 = toss_of_three_sided_unfair_dice()\n",
    "        toss2 = toss_of_three_sided_unfair_dice()\n",
    "        \n",
    "    # if toss1 is HEADS and toss2 is TAILS we output (Fair) Heads\n",
    "    # if toss1 is TAILS and toss2 is HEADS we output (Fair) Tails\n",
    "    if (((toss1 == 1) and (toss2 == 2)) or ((toss1 == 1) and (toss2 == 3)) or ((toss1 == 2) and (toss2 == 3))) :\n",
    "        return HEADS\n",
    "    else :\n",
    "        return TAILS\n",
    "    \n"
   ]
  },
  {
   "cell_type": "code",
   "execution_count": 24,
   "metadata": {
    "collapsed": true
   },
   "outputs": [],
   "source": [
    "# get a U.I.I.D RV by making the unfair three sided dice into a fair coin... and tossing the \n",
    "# resulting fair-coin 32 times to get discrete RV that is uniformly distributed over the \n",
    "# integers in [0, 2^{32}-1]... dividing the resulting integer by 2^{32}-1 gives us (effectively)\n",
    "# a U.I.I.D. RV\n",
    "def get_uiid_rvs_by_tossing_the_unfair_three_sided_dice_32_times() :\n",
    "    result = 0\n",
    "    for i in range(0, 32) :\n",
    "        if (simulate_fair_coin_from_unfair_three_sided_dice() == HEADS) :\n",
    "            result = result | (1 << i)\n",
    "        else :\n",
    "            result = result | (0 << i)\n",
    "    return float(result/(pow(2,32)-1))"
   ]
  },
  {
   "cell_type": "code",
   "execution_count": 26,
   "metadata": {},
   "outputs": [
    {
     "data": {
      "image/png": "[encoded data removed]",
      "text/plain": [
       "<Figure size 432x288 with 1 Axes>"
      ]
     },
     "metadata": {},
     "output_type": "display_data"
    }
   ],
   "source": [
    "# plotting the histogram that results from making the unfair coin into a fair coin\n",
    "y = []\n",
    "local_no_trials = int(no_of_trials/100)\n",
    "for i in range(0,local_no_trials) : \n",
    "    y.extend([simulate_fair_coin_from_unfair_three_sided_dice()])\n",
    "    \n",
    "plt.hist(y, bins=50)\n",
    "plt.ylabel('Histogram for ' + str(local_no_trials) + ' trials')\n",
    "plt.show()"
   ]
  },
  {
   "cell_type": "code",
   "execution_count": 28,
   "metadata": {},
   "outputs": [
    {
     "data": {
      "image/png": "[encoded data removed]",
      "text/plain": [
       "<Figure size 432x288 with 1 Axes>"
      ]
     },
     "metadata": {},
     "output_type": "display_data"
    }
   ],
   "source": [
    "z = []\n",
    "for i in range(0,no_of_trials) :\n",
    "    z.extend([get_uiid_rvs_by_tossing_the_unfair_three_sided_dice_32_times()])\n",
    "plt.hist(z, bins=50)\n",
    "plt.ylabel('Histogram for ' + str(no_of_trials) + ' trials')\n",
    "plt.show()"
   ]
  },
  {
   "cell_type": "code",
   "execution_count": 30,
   "metadata": {},
   "outputs": [
    {
     "data": {
      "image/png": "[encoded data removed]",
      "text/plain": [
       "<Figure size 432x288 with 1 Axes>"
      ]
     },
     "metadata": {},
     "output_type": "display_data"
    }
   ],
   "source": [
    "a = []\n",
    "for i in range(0,no_of_trials) :\n",
    "    p = get_uiid_rvs_by_tossing_the_unfair_three_sided_dice_32_times()\n",
    "    q = get_uiid_rvs_by_tossing_the_unfair_three_sided_dice_32_times()\n",
    "    theta = 2*math.pi*p \n",
    "    r = np.sqrt(-2*math.log(q))\n",
    "    a.extend([r*math.cos(theta)])\n",
    "    a.extend([r*math.sin(theta)])\n",
    "plt.hist(a, bins=50)\n",
    "plt.ylabel('Histogram for ' + str(2*no_of_trials) + ' trials')\n",
    "plt.show()"
   ]
  },
  {
   "cell_type": "code",
   "execution_count": null,
   "metadata": {
    "collapsed": true
   },
   "outputs": [],
   "source": []
  }
 ],
 "metadata": {
  "kernelspec": {
   "display_name": "Python 3",
   "language": "python",
   "name": "python3"
  },
  "language_info": {
   "codemirror_mode": {
    "name": "ipython",
    "version": 3
   },
   "file_extension": ".py",
   "mimetype": "text/x-python",
   "name": "python",
   "nbconvert_exporter": "python",
   "pygments_lexer": "ipython3",
   "version": "3.6.3"
  }
 },
 "nbformat": 4,
 "nbformat_minor": 2
}
