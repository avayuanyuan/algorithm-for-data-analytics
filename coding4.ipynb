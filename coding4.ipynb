{
 "cells": [
  {
   "cell_type": "code",
   "execution_count": 1,
   "metadata": {
    "collapsed": true
   },
   "outputs": [],
   "source": [
    "import numpy as np\n",
    "import matplotlib.pyplot as plt\n",
    "    "
   ]
  },
  {
   "cell_type": "code",
   "execution_count": 7,
   "metadata": {
    "collapsed": true
   },
   "outputs": [],
   "source": [
    "def get_probability():\n",
    "    p1 = np.random.uniform()\n",
    "    p2 = np.random.uniform(0,1-p1)\n",
    "    p3 = 1- p1-p2\n",
    "    return p1,p2,p3"
   ]
  },
  {
   "cell_type": "code",
   "execution_count": 3,
   "metadata": {
    "collapsed": true
   },
   "outputs": [],
   "source": [
    "def toss(P,N=1):\n",
    "    p1,p2,p3 = P\n",
    "    u = np.random.uniform(0,1,N)\n",
    "    result = np.zeros(N)\n",
    "    result[np.where(u<p1)[0]] = 1\n",
    "    result[np.where(np.logical_and(u>=p1,u<p1+p2))] = 2\n",
    "    result[np.where(u>=p1+p2)] =3\n",
    "    return result"
   ]
  },
  {
   "cell_type": "code",
   "execution_count": 74,
   "metadata": {
    "collapsed": true
   },
   "outputs": [],
   "source": [
    "def get_coin_tossed(dice_A_result,dice_B_result,initial_seed = 0, outfrequency = 10):\n",
    "    N = len(dice_A_result)# every frequncy results outpus, to decorrelate results\n",
    "    result = np.zeros(N+1)\n",
    "    result[0] = initial_seed\n",
    "    output = np.zeros(int(1.*N/outfrequency))\n",
    "    A_is_one = (dice_A_result ==1)\n",
    "    A_is_two = (dice_A_result ==2)\n",
    "    A_is_thr = (dice_A_result ==3)\n",
    "    \n",
    "    B_is_one = (dice_B_result== 1)\n",
    "    B_is_two = (dice_B_result== 2)\n",
    "    B_is_thr = (dice_B_result== 3)\n",
    "    \n",
    "    #(1,2)+ (1,3) + (2,3) is event1\n",
    "    #(2,1)+ (3,1) + (3,2) is event2\n",
    "    event1 =A_is_one*B_is_two + A_is_one*B_is_thr + A_is_two*B_is_thr\n",
    "    event2 =B_is_one*A_is_two + B_is_one*A_is_thr + B_is_two*A_is_thr\n",
    "    \n",
    "    for i in range(N):\n",
    "        if result[i]==0 :\n",
    "            result[i+1] =0\n",
    "            if event1[i]==1: #compound event1 occurs, we flip the coin\n",
    "                result[i+1] = 1\n",
    "        if result[i] ==1 :\n",
    "            result[i+1] =1\n",
    "            if event2[i] ==1:\n",
    "                result[i+1] = 0 #compund event2 occurs, we flip the coin\n",
    "        if ((i+1)%outfrequency==0):\n",
    "            output[int((i+1)/outfrequency)-1] = result[i+1]\n",
    "    #np.random.shuffle(result)\n",
    "    return output\n",
    "                \n",
    "            "
   ]
  },
  {
   "cell_type": "code",
   "execution_count": 102,
   "metadata": {
    "collapsed": true
   },
   "outputs": [],
   "source": [
    "def get_uniform(M,P=None, outfrequency=30):\n",
    "    if P==None:\n",
    "        P = get_probability()\n",
    "    N = 32*M*outfrequency\n",
    "    diceA = toss(P,N)\n",
    "    diceB = toss(P,N)\n",
    "    coin_result = get_coin_tossed(diceA,diceB,outfrequency=outfrequency)\n",
    "    coin_result = np.reshape(coin_result,(M,32))\n",
    "    binary_vector = 1<< np.arange(32)[::-1]\n",
    "    result = coin_result.dot(binary_vector)\n",
    "    result = result.flatten()\n",
    "    result = result/(1.*2**32)\n",
    "    return result   \n",
    "        "
   ]
  },
  {
   "cell_type": "code",
   "execution_count": 103,
   "metadata": {},
   "outputs": [
    {
     "data": {
      "image/png": "[encoded data removed]",
      "text/plain": [
       "<Figure size 432x288 with 1 Axes>"
      ]
     },
     "metadata": {},
     "output_type": "display_data"
    }
   ],
   "source": [
    "U = get_uniform(10000)\n",
    "plt.hist(U,bins=50)\n",
    "plt.show()"
   ]
  },
  {
   "cell_type": "code",
   "execution_count": 104,
   "metadata": {
    "collapsed": true
   },
   "outputs": [],
   "source": [
    "def get_Gaussian(M,outfrequency=15):\n",
    "    N = 32*M*outfrequency/2\n",
    "    P = get_probability()\n",
    "    p=get_uniform(M,P,outfrequency=outfrequency)\n",
    "    q=get_uniform(M,P,outfrequency=outfrequency)\n",
    "    theta = 2*np.pi*p\n",
    "    r = np.sqrt(-2*np.log(q))\n",
    "    o1 = r*np.cos(theta)\n",
    "    o2 = r*np.sin(theta)\n",
    "    output = np.hstack([o1,o2])\n",
    "    return output\n",
    "    "
   ]
  },
  {
   "cell_type": "code",
   "execution_count": 105,
   "metadata": {
    "scrolled": true
   },
   "outputs": [
    {
     "data": {
      "image/png": "[encoded data removed]",
      "text/plain": [
       "<Figure size 432x288 with 1 Axes>"
      ]
     },
     "metadata": {},
     "output_type": "display_data"
    }
   ],
   "source": [
    "G = get_Gaussian(10000)\n",
    "plt.hist(G,bins=50)\n",
    "plt.show()"
   ]
  },
  {
   "cell_type": "code",
   "execution_count": null,
   "metadata": {
    "collapsed": true
   },
   "outputs": [],
   "source": [
    "def get_matrix_element(N):\n",
    "    P = get_probability()\n",
    "    result1 = toss(P,N)  # N times of toss of dice A\n",
    "    result2 = toss(P,N)  # N times of toss of dice B\n",
    "    A_is_one = (result1 ==1)\n",
    "    A_is_two = (result1 ==2)\n",
    "    A_is_thr = (result1 ==3)\n",
    "    \n",
    "    B_is_one = (result2== 1)\n",
    "    B_is_two = (result2== 2)\n",
    "    B_is_thr = (result2== 3)\n",
    "    \n",
    "    #(1,2)+ (1,3) + (2,3) is event1\n",
    "    #(2,1)+ (3,1) + (3,2) is event2\n",
    "    N_event1 = np.sum(A_is_one*B_is_two + A_is_one*B_is_three + A_is_two*B_is_three)\n",
    "    N_evetn2 = np.sum(B_is_one*A_is_two + B_is_one*A_is_three + B_is_two*A_is_three)\n",
    "    \n",
    "    P12 = 1.*N_event1/N\n",
    "    P21 = 1.*N_event2/N\n",
    "    \n",
    "    P11 = 1- P12\n",
    "    P22 = 1 - P21\n",
    "    \n",
    "    matrix = np.array([[P11,P12],\n",
    "                      \\[P21,P22]])\n",
    "    \n",
    "    return matrix\n",
    "\n",
    "def get_coin_tossed(transition_matrix,N,initial_seed=0):\n",
    "    result = np.zeros((N+1))\n",
    "    U = np.random.uniform(N)\n",
    "    P11 = matrix[0,0]\n",
    "    for i in range(N):\n",
    "        if U[i]<P11:\n",
    "            result[i+1] = result[i]\n",
    "        else:\n",
    "            result[i+1] = (result[i]*2-1)*(-1)\n",
    "            result[i+1] = result[i+1]/2.0+0.5\n",
    "    return result[1:]\n",
    "    "
   ]
  }
 ],
 "metadata": {
  "kernelspec": {
   "display_name": "Python 3",
   "language": "python",
   "name": "python3"
  },
  "language_info": {
   "codemirror_mode": {
    "name": "ipython",
    "version": 3
   },
   "file_extension": ".py",
   "mimetype": "text/x-python",
   "name": "python",
   "nbconvert_exporter": "python",
   "pygments_lexer": "ipython3",
   "version": "3.6.3"
  }
 },
 "nbformat": 4,
 "nbformat_minor": 2
}
